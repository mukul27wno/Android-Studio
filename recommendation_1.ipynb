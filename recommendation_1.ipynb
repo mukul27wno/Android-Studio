{
  "cells": [
    {
      "cell_type": "markdown",
      "metadata": {
        "id": "view-in-github",
        "colab_type": "text"
      },
      "source": [
        "<a href=\"https://colab.research.google.com/github/mukul27wno/Android-Studio/blob/main/recommendation_1.ipynb\" target=\"_parent\"><img src=\"https://colab.research.google.com/assets/colab-badge.svg\" alt=\"Open In Colab\"/></a>"
      ]
    },
    {
      "cell_type": "markdown",
      "source": [
        "#Setup"
      ],
      "metadata": {
        "id": "10TL4a6l0qE2"
      },
      "id": "10TL4a6l0qE2"
    },
    {
      "cell_type": "code",
      "source": [
        "#link with google drive\n",
        "from google.colab import drive\n",
        "drive.mount('/content/drive')"
      ],
      "metadata": {
        "id": "Sba0Gr7MfqE3",
        "colab": {
          "base_uri": "https://localhost:8080/"
        },
        "outputId": "c8b3ebeb-70ea-4bd7-80c6-bce75c6dfc60"
      },
      "id": "Sba0Gr7MfqE3",
      "execution_count": 14,
      "outputs": [
        {
          "output_type": "stream",
          "name": "stdout",
          "text": [
            "Drive already mounted at /content/drive; to attempt to forcibly remount, call drive.mount(\"/content/drive\", force_remount=True).\n"
          ]
        }
      ]
    },
    {
      "cell_type": "code",
      "source": [
        "cd '/content/drive/MyDrive/Machine Learning/Mosahaya'"
      ],
      "metadata": {
        "colab": {
          "base_uri": "https://localhost:8080/"
        },
        "id": "d1iWFp4p02Y8",
        "outputId": "18cec0cd-2aa3-48d3-8391-40202f5f9347"
      },
      "id": "d1iWFp4p02Y8",
      "execution_count": 3,
      "outputs": [
        {
          "output_type": "stream",
          "name": "stdout",
          "text": [
            "/content/drive/My Drive/Mukul/Machine Learning/Mosahaya\n"
          ]
        }
      ]
    },
    {
      "cell_type": "code",
      "source": [
        "ls"
      ],
      "metadata": {
        "id": "VQ7P8HIh1_0X",
        "colab": {
          "base_uri": "https://localhost:8080/"
        },
        "outputId": "0f38dc26-073e-424b-953b-9865e55af5fc"
      },
      "id": "VQ7P8HIh1_0X",
      "execution_count": 4,
      "outputs": [
        {
          "output_type": "stream",
          "name": "stdout",
          "text": [
            " enrolled.csv                              'recommendation 1.ipynb'\n",
            "\u001b[0m\u001b[01;34m'paraphrase-distilroberta-base-v1 cache'\u001b[0m/\n"
          ]
        }
      ]
    },
    {
      "cell_type": "code",
      "source": [
        "import pandas as pd #working with csv or excel files\n",
        "import numpy as np #working with numbers/ arrays/ tensors\n",
        "import tensorflow as tf #framework\n",
        "from tensorflow import keras #API / library \n",
        "import os #using os commands between the python language"
      ],
      "metadata": {
        "id": "x1btvpU7eS4I"
      },
      "id": "x1btvpU7eS4I",
      "execution_count": 16,
      "outputs": []
    },
    {
      "cell_type": "code",
      "source": [
        "df=pd.read_csv(\"enrolled.csv\") #load csv file as dataframe"
      ],
      "metadata": {
        "colab": {
          "base_uri": "https://localhost:8080/"
        },
        "id": "SEvRdoU7ekxD",
        "outputId": "06d97a89-2f28-4044-b6fc-bf925e4e446a"
      },
      "id": "SEvRdoU7ekxD",
      "execution_count": 80,
      "outputs": [
        {
          "output_type": "stream",
          "name": "stderr",
          "text": [
            "/usr/local/lib/python3.7/dist-packages/IPython/core/interactiveshell.py:2718: DtypeWarning: Columns (6) have mixed types.Specify dtype option on import or set low_memory=False.\n",
            "  interactivity=interactivity, compiler=compiler, result=result)\n"
          ]
        }
      ]
    },
    {
      "cell_type": "code",
      "source": [
        "df.tail(10)"
      ],
      "metadata": {
        "colab": {
          "base_uri": "https://localhost:8080/",
          "height": 705
        },
        "id": "6nGTROd1fSs4",
        "outputId": "f1cf9be7-4954-4a5d-b26e-c226f50a1e8c"
      },
      "id": "6nGTROd1fSs4",
      "execution_count": 33,
      "outputs": [
        {
          "output_type": "execute_result",
          "data": {
            "text/html": [
              "\n",
              "  <div id=\"df-293eba94-4e8f-4e0d-91a4-dfab0477c3b8\">\n",
              "    <div class=\"colab-df-container\">\n",
              "      <div>\n",
              "<style scoped>\n",
              "    .dataframe tbody tr th:only-of-type {\n",
              "        vertical-align: middle;\n",
              "    }\n",
              "\n",
              "    .dataframe tbody tr th {\n",
              "        vertical-align: top;\n",
              "    }\n",
              "\n",
              "    .dataframe thead th {\n",
              "        text-align: right;\n",
              "    }\n",
              "</style>\n",
              "<table border=\"1\" class=\"dataframe\">\n",
              "  <thead>\n",
              "    <tr style=\"text-align: right;\">\n",
              "      <th></th>\n",
              "      <th>Unnamed: 0</th>\n",
              "      <th>Unnamed: 0.1</th>\n",
              "      <th>enrollmentId</th>\n",
              "      <th>generalData.name</th>\n",
              "      <th>generalData.age</th>\n",
              "      <th>generalData.mobileNumber</th>\n",
              "      <th>generalData.pinCode</th>\n",
              "      <th>skillData.education</th>\n",
              "      <th>skillData.preferredLocations</th>\n",
              "      <th>skillData.sectors</th>\n",
              "      <th>skillData.skills</th>\n",
              "      <th>first</th>\n",
              "      <th>second</th>\n",
              "    </tr>\n",
              "  </thead>\n",
              "  <tbody>\n",
              "    <tr>\n",
              "      <th>176569</th>\n",
              "      <td>176569</td>\n",
              "      <td>176621</td>\n",
              "      <td>1.172120e+14</td>\n",
              "      <td>PRASANNA KUMAR SAHOO</td>\n",
              "      <td>30</td>\n",
              "      <td>9437807972</td>\n",
              "      <td>752120</td>\n",
              "      <td>secondary</td>\n",
              "      <td>\"anugul (odisha)\",\"bhadrak (odisha)\"</td>\n",
              "      <td>\"others\"</td>\n",
              "      <td>\"others\"</td>\n",
              "      <td>\"anugul</td>\n",
              "      <td>(odisha)\",\"bhadrak (odisha)\"</td>\n",
              "    </tr>\n",
              "    <tr>\n",
              "      <th>176570</th>\n",
              "      <td>176570</td>\n",
              "      <td>176639</td>\n",
              "      <td>7.039830e+15</td>\n",
              "      <td>K Bapuji</td>\n",
              "      <td>35</td>\n",
              "      <td>9178294775</td>\n",
              "      <td>760001</td>\n",
              "      <td>graduate</td>\n",
              "      <td>\"others\"</td>\n",
              "      <td>\"oil &amp; gas\"</td>\n",
              "      <td>\"administration executive\"</td>\n",
              "      <td>\"others\"</td>\n",
              "      <td>NaN</td>\n",
              "    </tr>\n",
              "    <tr>\n",
              "      <th>176571</th>\n",
              "      <td>176571</td>\n",
              "      <td>176645</td>\n",
              "      <td>5.126070e+15</td>\n",
              "      <td>Bulu Sha</td>\n",
              "      <td>24</td>\n",
              "      <td>9348971773</td>\n",
              "      <td>766011</td>\n",
              "      <td>iti &amp; diploma</td>\n",
              "      <td>\"bhawanipatna (odisha)\",\"bhubaneswar (odisha)\"</td>\n",
              "      <td>\"education &amp; skill development\"</td>\n",
              "      <td>\"teacher (higher education)\"</td>\n",
              "      <td>\"bhawanipatna</td>\n",
              "      <td>(odisha)\",\"bhubaneswar (odisha)\"</td>\n",
              "    </tr>\n",
              "    <tr>\n",
              "      <th>176572</th>\n",
              "      <td>176572</td>\n",
              "      <td>176649</td>\n",
              "      <td>6.563000e+15</td>\n",
              "      <td>prasanta Kumar behera</td>\n",
              "      <td>24</td>\n",
              "      <td>8018367433</td>\n",
              "      <td>753001</td>\n",
              "      <td>passed higher secondary (Class 12th)</td>\n",
              "      <td>\"cuttack (odisha)\"</td>\n",
              "      <td>\"healthcare &amp; pharmaceuticals\",\"home services\"...</td>\n",
              "      <td>\"doctor (allopathic)\",\"front line health worke...</td>\n",
              "      <td>\"cuttack</td>\n",
              "      <td>(odisha)\"</td>\n",
              "    </tr>\n",
              "    <tr>\n",
              "      <th>176573</th>\n",
              "      <td>176573</td>\n",
              "      <td>176650</td>\n",
              "      <td>5.370140e+15</td>\n",
              "      <td>Siba Prasad Sahoo</td>\n",
              "      <td>25</td>\n",
              "      <td>9668814670</td>\n",
              "      <td>751016</td>\n",
              "      <td>graduate</td>\n",
              "      <td>\"bhubaneswar (odisha)\"</td>\n",
              "      <td>\"construction &amp; real estate\",\"professional &amp; o...</td>\n",
              "      <td>\"digital marketer\",\"marketing executive\",\"sale...</td>\n",
              "      <td>\"bhubaneswar</td>\n",
              "      <td>(odisha)\"</td>\n",
              "    </tr>\n",
              "    <tr>\n",
              "      <th>176574</th>\n",
              "      <td>176574</td>\n",
              "      <td>176660</td>\n",
              "      <td>5.217870e+15</td>\n",
              "      <td>abhisek mohanty</td>\n",
              "      <td>27</td>\n",
              "      <td>7008723233</td>\n",
              "      <td>764020</td>\n",
              "      <td>graduate</td>\n",
              "      <td>\"bhubaneswar (odisha)\"</td>\n",
              "      <td>\"retail\",\"tourism, hospitality &amp; travel\"</td>\n",
              "      <td>\"retail cashier\",\"retail operations assistant\"...</td>\n",
              "      <td>\"bhubaneswar</td>\n",
              "      <td>(odisha)\"</td>\n",
              "    </tr>\n",
              "    <tr>\n",
              "      <th>176575</th>\n",
              "      <td>176575</td>\n",
              "      <td>176678</td>\n",
              "      <td>5.761350e+15</td>\n",
              "      <td>Satyajeet Narayan</td>\n",
              "      <td>14</td>\n",
              "      <td>9337157292</td>\n",
              "      <td>769015</td>\n",
              "      <td>graduate</td>\n",
              "      <td>\"bangalore (karnataka)\"</td>\n",
              "      <td>\"professional &amp; other services\"</td>\n",
              "      <td>\"astrologer\"</td>\n",
              "      <td>\"bangalore</td>\n",
              "      <td>(karnataka)\"</td>\n",
              "    </tr>\n",
              "    <tr>\n",
              "      <th>176576</th>\n",
              "      <td>176576</td>\n",
              "      <td>176686</td>\n",
              "      <td>7.475890e+15</td>\n",
              "      <td>Om Behera</td>\n",
              "      <td>21</td>\n",
              "      <td>8917681494</td>\n",
              "      <td>759020</td>\n",
              "      <td>iti &amp; diploma</td>\n",
              "      <td>\"dhenkanal (odisha)\"</td>\n",
              "      <td>\"automobile\",\"tourism, hospitality &amp; travel\"</td>\n",
              "      <td>\"restaurant manager\"</td>\n",
              "      <td>\"dhenkanal</td>\n",
              "      <td>(odisha)\"</td>\n",
              "    </tr>\n",
              "    <tr>\n",
              "      <th>176577</th>\n",
              "      <td>176577</td>\n",
              "      <td>176687</td>\n",
              "      <td>2.485130e+15</td>\n",
              "      <td>Amarendra Kumar Das</td>\n",
              "      <td>52</td>\n",
              "      <td>9861255646</td>\n",
              "      <td>751002</td>\n",
              "      <td>graduate</td>\n",
              "      <td>\"bhubaneswar (odisha)\"</td>\n",
              "      <td>\"logistics &amp; warehousing\"</td>\n",
              "      <td>\"cargo handler\",\"warehouse associate\",\"supply ...</td>\n",
              "      <td>\"bhubaneswar</td>\n",
              "      <td>(odisha)\"</td>\n",
              "    </tr>\n",
              "    <tr>\n",
              "      <th>176578</th>\n",
              "      <td>176578</td>\n",
              "      <td>176701</td>\n",
              "      <td>1.364250e+15</td>\n",
              "      <td>Pratik Chandrakant Barge</td>\n",
              "      <td>21</td>\n",
              "      <td>8308720607</td>\n",
              "      <td>415004</td>\n",
              "      <td>graduate</td>\n",
              "      <td>\"pune (maharashtra)\",\"greater mumbai (maharash...</td>\n",
              "      <td>\"banking, financial services &amp; insurance\",\"edu...</td>\n",
              "      <td>\"computer operator\",\"data entry operator\",\"dat...</td>\n",
              "      <td>\"pune</td>\n",
              "      <td>(maharashtra)\",\"greater mumbai (maharashtra)\",...</td>\n",
              "    </tr>\n",
              "  </tbody>\n",
              "</table>\n",
              "</div>\n",
              "      <button class=\"colab-df-convert\" onclick=\"convertToInteractive('df-293eba94-4e8f-4e0d-91a4-dfab0477c3b8')\"\n",
              "              title=\"Convert this dataframe to an interactive table.\"\n",
              "              style=\"display:none;\">\n",
              "        \n",
              "  <svg xmlns=\"http://www.w3.org/2000/svg\" height=\"24px\"viewBox=\"0 0 24 24\"\n",
              "       width=\"24px\">\n",
              "    <path d=\"M0 0h24v24H0V0z\" fill=\"none\"/>\n",
              "    <path d=\"M18.56 5.44l.94 2.06.94-2.06 2.06-.94-2.06-.94-.94-2.06-.94 2.06-2.06.94zm-11 1L8.5 8.5l.94-2.06 2.06-.94-2.06-.94L8.5 2.5l-.94 2.06-2.06.94zm10 10l.94 2.06.94-2.06 2.06-.94-2.06-.94-.94-2.06-.94 2.06-2.06.94z\"/><path d=\"M17.41 7.96l-1.37-1.37c-.4-.4-.92-.59-1.43-.59-.52 0-1.04.2-1.43.59L10.3 9.45l-7.72 7.72c-.78.78-.78 2.05 0 2.83L4 21.41c.39.39.9.59 1.41.59.51 0 1.02-.2 1.41-.59l7.78-7.78 2.81-2.81c.8-.78.8-2.07 0-2.86zM5.41 20L4 18.59l7.72-7.72 1.47 1.35L5.41 20z\"/>\n",
              "  </svg>\n",
              "      </button>\n",
              "      \n",
              "  <style>\n",
              "    .colab-df-container {\n",
              "      display:flex;\n",
              "      flex-wrap:wrap;\n",
              "      gap: 12px;\n",
              "    }\n",
              "\n",
              "    .colab-df-convert {\n",
              "      background-color: #E8F0FE;\n",
              "      border: none;\n",
              "      border-radius: 50%;\n",
              "      cursor: pointer;\n",
              "      display: none;\n",
              "      fill: #1967D2;\n",
              "      height: 32px;\n",
              "      padding: 0 0 0 0;\n",
              "      width: 32px;\n",
              "    }\n",
              "\n",
              "    .colab-df-convert:hover {\n",
              "      background-color: #E2EBFA;\n",
              "      box-shadow: 0px 1px 2px rgba(60, 64, 67, 0.3), 0px 1px 3px 1px rgba(60, 64, 67, 0.15);\n",
              "      fill: #174EA6;\n",
              "    }\n",
              "\n",
              "    [theme=dark] .colab-df-convert {\n",
              "      background-color: #3B4455;\n",
              "      fill: #D2E3FC;\n",
              "    }\n",
              "\n",
              "    [theme=dark] .colab-df-convert:hover {\n",
              "      background-color: #434B5C;\n",
              "      box-shadow: 0px 1px 3px 1px rgba(0, 0, 0, 0.15);\n",
              "      filter: drop-shadow(0px 1px 2px rgba(0, 0, 0, 0.3));\n",
              "      fill: #FFFFFF;\n",
              "    }\n",
              "  </style>\n",
              "\n",
              "      <script>\n",
              "        const buttonEl =\n",
              "          document.querySelector('#df-293eba94-4e8f-4e0d-91a4-dfab0477c3b8 button.colab-df-convert');\n",
              "        buttonEl.style.display =\n",
              "          google.colab.kernel.accessAllowed ? 'block' : 'none';\n",
              "\n",
              "        async function convertToInteractive(key) {\n",
              "          const element = document.querySelector('#df-293eba94-4e8f-4e0d-91a4-dfab0477c3b8');\n",
              "          const dataTable =\n",
              "            await google.colab.kernel.invokeFunction('convertToInteractive',\n",
              "                                                     [key], {});\n",
              "          if (!dataTable) return;\n",
              "\n",
              "          const docLinkHtml = 'Like what you see? Visit the ' +\n",
              "            '<a target=\"_blank\" href=https://colab.research.google.com/notebooks/data_table.ipynb>data table notebook</a>'\n",
              "            + ' to learn more about interactive tables.';\n",
              "          element.innerHTML = '';\n",
              "          dataTable['output_type'] = 'display_data';\n",
              "          await google.colab.output.renderOutput(dataTable, element);\n",
              "          const docLink = document.createElement('div');\n",
              "          docLink.innerHTML = docLinkHtml;\n",
              "          element.appendChild(docLink);\n",
              "        }\n",
              "      </script>\n",
              "    </div>\n",
              "  </div>\n",
              "  "
            ],
            "text/plain": [
              "        Unnamed: 0  ...                                             second\n",
              "176569      176569  ...                       (odisha)\",\"bhadrak (odisha)\"\n",
              "176570      176570  ...                                                NaN\n",
              "176571      176571  ...                   (odisha)\",\"bhubaneswar (odisha)\"\n",
              "176572      176572  ...                                          (odisha)\"\n",
              "176573      176573  ...                                          (odisha)\"\n",
              "176574      176574  ...                                          (odisha)\"\n",
              "176575      176575  ...                                       (karnataka)\"\n",
              "176576      176576  ...                                          (odisha)\"\n",
              "176577      176577  ...                                          (odisha)\"\n",
              "176578      176578  ...  (maharashtra)\",\"greater mumbai (maharashtra)\",...\n",
              "\n",
              "[10 rows x 13 columns]"
            ]
          },
          "metadata": {},
          "execution_count": 33
        }
      ]
    },
    {
      "cell_type": "code",
      "source": [
        "df.head(10)"
      ],
      "metadata": {
        "colab": {
          "base_uri": "https://localhost:8080/",
          "height": 670
        },
        "id": "YVJSeB7wfTZV",
        "outputId": "848a1e8d-c733-406f-86ca-508b837152a6"
      },
      "id": "YVJSeB7wfTZV",
      "execution_count": 34,
      "outputs": [
        {
          "output_type": "execute_result",
          "data": {
            "text/html": [
              "\n",
              "  <div id=\"df-e0902c37-c5bd-47c9-a707-fcc6479ceed9\">\n",
              "    <div class=\"colab-df-container\">\n",
              "      <div>\n",
              "<style scoped>\n",
              "    .dataframe tbody tr th:only-of-type {\n",
              "        vertical-align: middle;\n",
              "    }\n",
              "\n",
              "    .dataframe tbody tr th {\n",
              "        vertical-align: top;\n",
              "    }\n",
              "\n",
              "    .dataframe thead th {\n",
              "        text-align: right;\n",
              "    }\n",
              "</style>\n",
              "<table border=\"1\" class=\"dataframe\">\n",
              "  <thead>\n",
              "    <tr style=\"text-align: right;\">\n",
              "      <th></th>\n",
              "      <th>Unnamed: 0</th>\n",
              "      <th>Unnamed: 0.1</th>\n",
              "      <th>enrollmentId</th>\n",
              "      <th>generalData.name</th>\n",
              "      <th>generalData.age</th>\n",
              "      <th>generalData.mobileNumber</th>\n",
              "      <th>generalData.pinCode</th>\n",
              "      <th>skillData.education</th>\n",
              "      <th>skillData.preferredLocations</th>\n",
              "      <th>skillData.sectors</th>\n",
              "      <th>skillData.skills</th>\n",
              "      <th>first</th>\n",
              "      <th>second</th>\n",
              "    </tr>\n",
              "  </thead>\n",
              "  <tbody>\n",
              "    <tr>\n",
              "      <th>0</th>\n",
              "      <td>0</td>\n",
              "      <td>0</td>\n",
              "      <td>4.133420e+15</td>\n",
              "      <td>SOUMITRA BEHURA</td>\n",
              "      <td>29</td>\n",
              "      <td>9438266369</td>\n",
              "      <td>751003</td>\n",
              "      <td>graduate</td>\n",
              "      <td>\"bhubaneswar (odisha)\"</td>\n",
              "      <td>\"agriculture\"</td>\n",
              "      <td>\"poultry farmer\"</td>\n",
              "      <td>\"bhubaneswar</td>\n",
              "      <td>odisha\"</td>\n",
              "    </tr>\n",
              "    <tr>\n",
              "      <th>1</th>\n",
              "      <td>1</td>\n",
              "      <td>1</td>\n",
              "      <td>8.388130e+15</td>\n",
              "      <td>bijay sahoo</td>\n",
              "      <td>54</td>\n",
              "      <td>9867500133</td>\n",
              "      <td>752107</td>\n",
              "      <td>graduate</td>\n",
              "      <td>\"navi mumbai (maharashtra)\"</td>\n",
              "      <td>\"agriculture\"</td>\n",
              "      <td>\"dairy farmer\"</td>\n",
              "      <td>\"navi</td>\n",
              "      <td>mumbai maharashtra\"</td>\n",
              "    </tr>\n",
              "    <tr>\n",
              "      <th>2</th>\n",
              "      <td>2</td>\n",
              "      <td>2</td>\n",
              "      <td>2.134550e+15</td>\n",
              "      <td>Suvendu Nayak</td>\n",
              "      <td>29</td>\n",
              "      <td>7008803424</td>\n",
              "      <td>757041</td>\n",
              "      <td>graduate</td>\n",
              "      <td>\"jharsuguda (odisha)\",\"talcher (odisha)\"</td>\n",
              "      <td>\"manufacturing &amp; heavy engineering\",\"others\"</td>\n",
              "      <td>\"others\"</td>\n",
              "      <td>\"jharsuguda</td>\n",
              "      <td>odisha\",\"talcher odisha\"</td>\n",
              "    </tr>\n",
              "    <tr>\n",
              "      <th>3</th>\n",
              "      <td>3</td>\n",
              "      <td>3</td>\n",
              "      <td>2.167160e+15</td>\n",
              "      <td>Filan kumar patra</td>\n",
              "      <td>30</td>\n",
              "      <td>9556106091</td>\n",
              "      <td>752111</td>\n",
              "      <td>passed secondary (class 10th)</td>\n",
              "      <td>\"navi mumbai (maharashtra)\"</td>\n",
              "      <td>\"construction &amp; real estate\"</td>\n",
              "      <td>\"welder\"</td>\n",
              "      <td>\"navi</td>\n",
              "      <td>mumbai maharashtra\"</td>\n",
              "    </tr>\n",
              "    <tr>\n",
              "      <th>4</th>\n",
              "      <td>4</td>\n",
              "      <td>4</td>\n",
              "      <td>9.768460e+15</td>\n",
              "      <td>Santosh Kumar Patra</td>\n",
              "      <td>30</td>\n",
              "      <td>9040186174</td>\n",
              "      <td>751030</td>\n",
              "      <td>graduate</td>\n",
              "      <td>\"bhubaneswar (odisha)\"</td>\n",
              "      <td>\"banking, financial services &amp; insurance\"</td>\n",
              "      <td>\"accountant\"</td>\n",
              "      <td>\"bhubaneswar</td>\n",
              "      <td>odisha\"</td>\n",
              "    </tr>\n",
              "    <tr>\n",
              "      <th>5</th>\n",
              "      <td>5</td>\n",
              "      <td>5</td>\n",
              "      <td>8.642260e+15</td>\n",
              "      <td>Kunal Kumar</td>\n",
              "      <td>32</td>\n",
              "      <td>7381596071</td>\n",
              "      <td>824122</td>\n",
              "      <td>passed higher secondary (Class 12th)</td>\n",
              "      <td>\"jharsuguda (odisha)\",\"talcher (odisha)\"</td>\n",
              "      <td>\"others\"</td>\n",
              "      <td>\"others\"</td>\n",
              "      <td>\"jharsuguda</td>\n",
              "      <td>odisha\",\"talcher odisha\"</td>\n",
              "    </tr>\n",
              "    <tr>\n",
              "      <th>6</th>\n",
              "      <td>6</td>\n",
              "      <td>6</td>\n",
              "      <td>7.473310e+15</td>\n",
              "      <td>shubham yadav</td>\n",
              "      <td>27</td>\n",
              "      <td>8249467282</td>\n",
              "      <td>222142</td>\n",
              "      <td>graduate</td>\n",
              "      <td>\"talcher (odisha)\",\"singrauli (madhya pradesh)\"</td>\n",
              "      <td>\"others\"</td>\n",
              "      <td>\"others\"</td>\n",
              "      <td>\"talcher</td>\n",
              "      <td>odisha\",\"singrauli madhya pradesh\"</td>\n",
              "    </tr>\n",
              "    <tr>\n",
              "      <th>7</th>\n",
              "      <td>7</td>\n",
              "      <td>7</td>\n",
              "      <td>1.697560e+15</td>\n",
              "      <td>Jhulan Yadav</td>\n",
              "      <td>35</td>\n",
              "      <td>9661449162</td>\n",
              "      <td>841436</td>\n",
              "      <td>passed secondary (class 10th)</td>\n",
              "      <td>\"jharsuguda (odisha)\",\"talcher (odisha)\",\"sing...</td>\n",
              "      <td>\"mining\"</td>\n",
              "      <td>\"others\"</td>\n",
              "      <td>\"jharsuguda</td>\n",
              "      <td>odisha\",\"talcher odisha\",\"singrauli madhya pra...</td>\n",
              "    </tr>\n",
              "    <tr>\n",
              "      <th>8</th>\n",
              "      <td>8</td>\n",
              "      <td>8</td>\n",
              "      <td>9.083130e+15</td>\n",
              "      <td>Manas Kumar Senapati</td>\n",
              "      <td>29</td>\n",
              "      <td>8895226314</td>\n",
              "      <td>757082</td>\n",
              "      <td>graduate</td>\n",
              "      <td>\"jharsuguda (odisha)\"</td>\n",
              "      <td>\"mining\"</td>\n",
              "      <td>\"others\"</td>\n",
              "      <td>\"jharsuguda</td>\n",
              "      <td>odisha\"</td>\n",
              "    </tr>\n",
              "    <tr>\n",
              "      <th>9</th>\n",
              "      <td>9</td>\n",
              "      <td>9</td>\n",
              "      <td>6.899290e+15</td>\n",
              "      <td>surendra munda</td>\n",
              "      <td>44</td>\n",
              "      <td>9939133981</td>\n",
              "      <td>829109</td>\n",
              "      <td>passed secondary (class 10th)</td>\n",
              "      <td>\"jharsuguda (odisha)\"</td>\n",
              "      <td>\"mining\"</td>\n",
              "      <td>\"others\"</td>\n",
              "      <td>\"jharsuguda</td>\n",
              "      <td>odisha\"</td>\n",
              "    </tr>\n",
              "  </tbody>\n",
              "</table>\n",
              "</div>\n",
              "      <button class=\"colab-df-convert\" onclick=\"convertToInteractive('df-e0902c37-c5bd-47c9-a707-fcc6479ceed9')\"\n",
              "              title=\"Convert this dataframe to an interactive table.\"\n",
              "              style=\"display:none;\">\n",
              "        \n",
              "  <svg xmlns=\"http://www.w3.org/2000/svg\" height=\"24px\"viewBox=\"0 0 24 24\"\n",
              "       width=\"24px\">\n",
              "    <path d=\"M0 0h24v24H0V0z\" fill=\"none\"/>\n",
              "    <path d=\"M18.56 5.44l.94 2.06.94-2.06 2.06-.94-2.06-.94-.94-2.06-.94 2.06-2.06.94zm-11 1L8.5 8.5l.94-2.06 2.06-.94-2.06-.94L8.5 2.5l-.94 2.06-2.06.94zm10 10l.94 2.06.94-2.06 2.06-.94-2.06-.94-.94-2.06-.94 2.06-2.06.94z\"/><path d=\"M17.41 7.96l-1.37-1.37c-.4-.4-.92-.59-1.43-.59-.52 0-1.04.2-1.43.59L10.3 9.45l-7.72 7.72c-.78.78-.78 2.05 0 2.83L4 21.41c.39.39.9.59 1.41.59.51 0 1.02-.2 1.41-.59l7.78-7.78 2.81-2.81c.8-.78.8-2.07 0-2.86zM5.41 20L4 18.59l7.72-7.72 1.47 1.35L5.41 20z\"/>\n",
              "  </svg>\n",
              "      </button>\n",
              "      \n",
              "  <style>\n",
              "    .colab-df-container {\n",
              "      display:flex;\n",
              "      flex-wrap:wrap;\n",
              "      gap: 12px;\n",
              "    }\n",
              "\n",
              "    .colab-df-convert {\n",
              "      background-color: #E8F0FE;\n",
              "      border: none;\n",
              "      border-radius: 50%;\n",
              "      cursor: pointer;\n",
              "      display: none;\n",
              "      fill: #1967D2;\n",
              "      height: 32px;\n",
              "      padding: 0 0 0 0;\n",
              "      width: 32px;\n",
              "    }\n",
              "\n",
              "    .colab-df-convert:hover {\n",
              "      background-color: #E2EBFA;\n",
              "      box-shadow: 0px 1px 2px rgba(60, 64, 67, 0.3), 0px 1px 3px 1px rgba(60, 64, 67, 0.15);\n",
              "      fill: #174EA6;\n",
              "    }\n",
              "\n",
              "    [theme=dark] .colab-df-convert {\n",
              "      background-color: #3B4455;\n",
              "      fill: #D2E3FC;\n",
              "    }\n",
              "\n",
              "    [theme=dark] .colab-df-convert:hover {\n",
              "      background-color: #434B5C;\n",
              "      box-shadow: 0px 1px 3px 1px rgba(0, 0, 0, 0.15);\n",
              "      filter: drop-shadow(0px 1px 2px rgba(0, 0, 0, 0.3));\n",
              "      fill: #FFFFFF;\n",
              "    }\n",
              "  </style>\n",
              "\n",
              "      <script>\n",
              "        const buttonEl =\n",
              "          document.querySelector('#df-e0902c37-c5bd-47c9-a707-fcc6479ceed9 button.colab-df-convert');\n",
              "        buttonEl.style.display =\n",
              "          google.colab.kernel.accessAllowed ? 'block' : 'none';\n",
              "\n",
              "        async function convertToInteractive(key) {\n",
              "          const element = document.querySelector('#df-e0902c37-c5bd-47c9-a707-fcc6479ceed9');\n",
              "          const dataTable =\n",
              "            await google.colab.kernel.invokeFunction('convertToInteractive',\n",
              "                                                     [key], {});\n",
              "          if (!dataTable) return;\n",
              "\n",
              "          const docLinkHtml = 'Like what you see? Visit the ' +\n",
              "            '<a target=\"_blank\" href=https://colab.research.google.com/notebooks/data_table.ipynb>data table notebook</a>'\n",
              "            + ' to learn more about interactive tables.';\n",
              "          element.innerHTML = '';\n",
              "          dataTable['output_type'] = 'display_data';\n",
              "          await google.colab.output.renderOutput(dataTable, element);\n",
              "          const docLink = document.createElement('div');\n",
              "          docLink.innerHTML = docLinkHtml;\n",
              "          element.appendChild(docLink);\n",
              "        }\n",
              "      </script>\n",
              "    </div>\n",
              "  </div>\n",
              "  "
            ],
            "text/plain": [
              "   Unnamed: 0  ...                                             second\n",
              "0           0  ...                                            odisha\"\n",
              "1           1  ...                                mumbai maharashtra\"\n",
              "2           2  ...                           odisha\",\"talcher odisha\"\n",
              "3           3  ...                                mumbai maharashtra\"\n",
              "4           4  ...                                            odisha\"\n",
              "5           5  ...                           odisha\",\"talcher odisha\"\n",
              "6           6  ...                 odisha\",\"singrauli madhya pradesh\"\n",
              "7           7  ...  odisha\",\"talcher odisha\",\"singrauli madhya pra...\n",
              "8           8  ...                                            odisha\"\n",
              "9           9  ...                                            odisha\"\n",
              "\n",
              "[10 rows x 13 columns]"
            ]
          },
          "metadata": {},
          "execution_count": 34
        }
      ]
    },
    {
      "cell_type": "markdown",
      "source": [
        "#Data Processing"
      ],
      "metadata": {
        "id": "m2qw79mvfUjS"
      },
      "id": "m2qw79mvfUjS"
    },
    {
      "cell_type": "code",
      "source": [
        "print(f'age: {df[\"generalData.age\"].sort_values().unique()} \\n')\n",
        "print(f'pincode: {df[\"generalData.pinCode\"].unique()} \\n')\n",
        "print(f'education: {df[\"skillData.education\"].unique()} \\n')\n",
        "print(f'sectors: {df[\"skillData.sectors\"].unique()} \\n')\n",
        "print(f'skills: {df[\"skillData.skills\"].unique()} \\n')"
      ],
      "metadata": {
        "colab": {
          "base_uri": "https://localhost:8080/"
        },
        "id": "wtPr7BCjgBRQ",
        "outputId": "9bb9a2cf-86c8-4a98-ec51-fa8c615ad777"
      },
      "id": "wtPr7BCjgBRQ",
      "execution_count": 71,
      "outputs": [
        {
          "output_type": "stream",
          "name": "stdout",
          "text": [
            "age: [  3   5   6   9  12  14  15  16  17  18  19  20  21  22  23  24  25  26\n",
            "  27  28  29  30  31  32  33  34  35  36  37  38  39  40  41  42  43  44\n",
            "  45  46  47  48  49  50  51  52  53  54  55  56  57  58  59  60  61  62\n",
            "  64  65  66  69  70  72  73  77  79  80 100] \n",
            "\n",
            "pincode: [751003 752107 757041 ... '600113' '766011' '759020'] \n",
            "\n",
            "education: ['graduate' 'passed secondary (class 10th)'\n",
            " 'passed higher secondary (Class 12th)' ... '!0th' 'BA Pass' '12th  Pass'] \n",
            "\n",
            "sectors: ['\"agriculture\"' '\"manufacturing & heavy engineering\",\"others\"'\n",
            " '\"construction & real estate\"' ...\n",
            " '\"healthcare & pharmaceuticals\",\"home services\",\"private security\"'\n",
            " '\"construction & real estate\",\"professional & other services\",\"others\"'\n",
            " '\"banking, financial services & insurance\",\"education & skill development\",\"it & ites\",\"media & entertainment\",\"telecommunication\"'] \n",
            "\n",
            "skills: ['\"poultry farmer\"' '\"dairy farmer\"' '\"others\"' ... '\"astrologer\"'\n",
            " '\"cargo handler\",\"warehouse associate\",\"supply chain manager\"'\n",
            " '\"computer operator\",\"data entry operator\",\"database administrator\",\"it consultant\",\"social media executive\",\"accountant\",\"marketing executive\",\"receptionist\",\"sales executive\"'] \n",
            "\n"
          ]
        }
      ]
    },
    {
      "cell_type": "code",
      "source": [
        "print(f'There are {len(df.columns)} columnd in the dataframe df name')\n",
        "print(df.columns)\n",
        "print(df.shape)"
      ],
      "metadata": {
        "colab": {
          "base_uri": "https://localhost:8080/"
        },
        "id": "tBsojOS7k5Pe",
        "outputId": "5465186a-4128-4dfe-fbcf-d53f8b7a4583"
      },
      "id": "tBsojOS7k5Pe",
      "execution_count": 83,
      "outputs": [
        {
          "output_type": "stream",
          "name": "stdout",
          "text": [
            "There are 13 columnd in the dataframe df name\n",
            "Index(['Unnamed: 0', 'Unnamed: 0.1', 'enrollmentId', 'generalData.name',\n",
            "       'generalData.age', 'generalData.mobileNumber', 'generalData.pinCode',\n",
            "       'skillData.education', 'skillData.preferredLocations',\n",
            "       'skillData.sectors', 'skillData.skills', 'first', 'second'],\n",
            "      dtype='object')\n",
            "(176579, 13)\n"
          ]
        }
      ]
    },
    {
      "cell_type": "code",
      "source": [
        ""
      ],
      "metadata": {
        "id": "77dzJFK0qEEd"
      },
      "id": "77dzJFK0qEEd",
      "execution_count": null,
      "outputs": []
    },
    {
      "cell_type": "code",
      "execution_count": 87,
      "id": "40eb38fd",
      "metadata": {
        "colab": {
          "base_uri": "https://localhost:8080/"
        },
        "id": "40eb38fd",
        "outputId": "5d5eb2fc-946e-4631-aebb-b3d962b86359"
      },
      "outputs": [
        {
          "output_type": "stream",
          "name": "stderr",
          "text": [
            "/usr/local/lib/python3.7/dist-packages/IPython/core/interactiveshell.py:2718: DtypeWarning: Columns (6) have mixed types.Specify dtype option on import or set low_memory=False.\n",
            "  interactivity=interactivity, compiler=compiler, result=result)\n"
          ]
        }
      ],
      "source": [
        "df=pd.read_csv(\"enrolled.csv\")\n",
        "\n",
        "\n",
        "def cleaner(df=df):\n",
        "  states=[]\n",
        "  locations=df[\"skillData.preferredLocations\"].values\n",
        "  import re #Regular expression operations\n",
        "\n",
        "  for i in locations:\n",
        "      res = re.findall(r'\\(.*?\\)',i)\n",
        "      res=list(set(res))\n",
        "      states.append(res)\n",
        "      \n",
        "  for i in states:\n",
        "      for j in range((len(i))):\n",
        "          i[j]=re.sub(r\"[^a-zA-Z0-9]\",\"\",i[j])\n",
        "\n",
        "  states_array=[]\n",
        "  for i in states:\n",
        "    str=\"\"\n",
        "    length=len(i)\n",
        "    if length==1:\n",
        "      str=str+i[0]\n",
        "    if length>1:\n",
        "      for j in i:\n",
        "        str=str+\", \"+j\n",
        "      str=str[2:]\n",
        "    states_array.append(str)\n",
        "  #----------------------------------------------------------------------------------------------------------------------------------------\n",
        "  skills_array=[]\n",
        "  skills= df[\"skillData.skills\"].values\n",
        "  for i in skills:\n",
        "    i=i.replace('\"', \"\")\n",
        "    i=i.replace(\",\", \", \")\n",
        "    skills_array.append(i)\n",
        "  #----------------------------------------------------------------------------------------------------------------------------------------\n",
        "  sectors_array=[]\n",
        "  sectors= df[\"skillData.sectors\"].values\n",
        "  for i in sectors:\n",
        "    i=i.replace('\"', \"\")\n",
        "    i=i.replace(\",\", \", \")\n",
        "    sectors_array.append(i)\n",
        "\n",
        "  df[\"skills\"]=skills_array\n",
        "  df[\"sectors\"]=sectors_array\n",
        "  df[\"states\"]=states_array\n",
        "  df=df.drop([\"skillData.skills\", \"skillData.sectors\"], axis=1)\n",
        "  df=df.drop([\"enrollmentId\", \"skillData.preferredLocations\", \"first\", \"second\"], axis=1)\n",
        "  return df"
      ]
    },
    {
      "cell_type": "code",
      "execution_count": 85,
      "id": "e11a1fd3",
      "metadata": {
        "id": "e11a1fd3"
      },
      "outputs": [],
      "source": [
        "df=cleaner(df)"
      ]
    },
    {
      "cell_type": "code",
      "execution_count": 89,
      "id": "17b8d671",
      "metadata": {
        "id": "17b8d671",
        "colab": {
          "base_uri": "https://localhost:8080/",
          "height": 642
        },
        "outputId": "875ea21b-18b5-4340-e9e6-b28ea5d9f8a9"
      },
      "outputs": [
        {
          "output_type": "error",
          "ename": "KeyError",
          "evalue": "ignored",
          "traceback": [
            "\u001b[0;31m---------------------------------------------------------------------------\u001b[0m",
            "\u001b[0;31mKeyError\u001b[0m                                  Traceback (most recent call last)",
            "\u001b[0;32m/usr/local/lib/python3.7/dist-packages/pandas/core/indexes/base.py\u001b[0m in \u001b[0;36mget_loc\u001b[0;34m(self, key, method, tolerance)\u001b[0m\n\u001b[1;32m   2897\u001b[0m             \u001b[0;32mtry\u001b[0m\u001b[0;34m:\u001b[0m\u001b[0;34m\u001b[0m\u001b[0;34m\u001b[0m\u001b[0m\n\u001b[0;32m-> 2898\u001b[0;31m                 \u001b[0;32mreturn\u001b[0m \u001b[0mself\u001b[0m\u001b[0;34m.\u001b[0m\u001b[0m_engine\u001b[0m\u001b[0;34m.\u001b[0m\u001b[0mget_loc\u001b[0m\u001b[0;34m(\u001b[0m\u001b[0mcasted_key\u001b[0m\u001b[0;34m)\u001b[0m\u001b[0;34m\u001b[0m\u001b[0;34m\u001b[0m\u001b[0m\n\u001b[0m\u001b[1;32m   2899\u001b[0m             \u001b[0;32mexcept\u001b[0m \u001b[0mKeyError\u001b[0m \u001b[0;32mas\u001b[0m \u001b[0merr\u001b[0m\u001b[0;34m:\u001b[0m\u001b[0;34m\u001b[0m\u001b[0;34m\u001b[0m\u001b[0m\n",
            "\u001b[0;32mpandas/_libs/index.pyx\u001b[0m in \u001b[0;36mpandas._libs.index.IndexEngine.get_loc\u001b[0;34m()\u001b[0m\n",
            "\u001b[0;32mpandas/_libs/index.pyx\u001b[0m in \u001b[0;36mpandas._libs.index.IndexEngine.get_loc\u001b[0;34m()\u001b[0m\n",
            "\u001b[0;32mpandas/_libs/hashtable_class_helper.pxi\u001b[0m in \u001b[0;36mpandas._libs.hashtable.PyObjectHashTable.get_item\u001b[0;34m()\u001b[0m\n",
            "\u001b[0;32mpandas/_libs/hashtable_class_helper.pxi\u001b[0m in \u001b[0;36mpandas._libs.hashtable.PyObjectHashTable.get_item\u001b[0;34m()\u001b[0m\n",
            "\u001b[0;31mKeyError\u001b[0m: 'skills'",
            "\nThe above exception was the direct cause of the following exception:\n",
            "\u001b[0;31mKeyError\u001b[0m                                  Traceback (most recent call last)",
            "\u001b[0;32m<ipython-input-89-d5c575a43fdf>\u001b[0m in \u001b[0;36m<module>\u001b[0;34m()\u001b[0m\n\u001b[1;32m      1\u001b[0m \u001b[0;31m# Filling NaNs with empty string\u001b[0m\u001b[0;34m\u001b[0m\u001b[0;34m\u001b[0m\u001b[0;34m\u001b[0m\u001b[0m\n\u001b[0;32m----> 2\u001b[0;31m \u001b[0mdf\u001b[0m\u001b[0;34m[\u001b[0m\u001b[0;34m'skills'\u001b[0m\u001b[0;34m]\u001b[0m \u001b[0;34m=\u001b[0m \u001b[0mdf\u001b[0m\u001b[0;34m[\u001b[0m\u001b[0;34m'skills'\u001b[0m\u001b[0;34m]\u001b[0m\u001b[0;34m.\u001b[0m\u001b[0mfillna\u001b[0m\u001b[0;34m(\u001b[0m\u001b[0;34m''\u001b[0m\u001b[0;34m)\u001b[0m\u001b[0;34m\u001b[0m\u001b[0;34m\u001b[0m\u001b[0m\n\u001b[0m\u001b[1;32m      3\u001b[0m \u001b[0mdf\u001b[0m\u001b[0;34m[\u001b[0m\u001b[0;34m'sectors'\u001b[0m\u001b[0;34m]\u001b[0m \u001b[0;34m=\u001b[0m \u001b[0mdf\u001b[0m\u001b[0;34m[\u001b[0m\u001b[0;34m'sectors'\u001b[0m\u001b[0;34m]\u001b[0m\u001b[0;34m.\u001b[0m\u001b[0mfillna\u001b[0m\u001b[0;34m(\u001b[0m\u001b[0;34m''\u001b[0m\u001b[0;34m)\u001b[0m\u001b[0;34m\u001b[0m\u001b[0;34m\u001b[0m\u001b[0m\n\u001b[1;32m      4\u001b[0m \u001b[0mdf\u001b[0m\u001b[0;34m[\u001b[0m\u001b[0;34m'states'\u001b[0m\u001b[0;34m]\u001b[0m \u001b[0;34m=\u001b[0m \u001b[0mdf\u001b[0m\u001b[0;34m[\u001b[0m\u001b[0;34m'states'\u001b[0m\u001b[0;34m]\u001b[0m\u001b[0;34m.\u001b[0m\u001b[0mfillna\u001b[0m\u001b[0;34m(\u001b[0m\u001b[0;34m''\u001b[0m\u001b[0;34m)\u001b[0m\u001b[0;34m\u001b[0m\u001b[0;34m\u001b[0m\u001b[0m\n\u001b[1;32m      5\u001b[0m \u001b[0mdf\u001b[0m\u001b[0;34m.\u001b[0m\u001b[0mreset_index\u001b[0m\u001b[0;34m(\u001b[0m\u001b[0;34m)\u001b[0m\u001b[0;34m\u001b[0m\u001b[0;34m\u001b[0m\u001b[0m\n",
            "\u001b[0;32m/usr/local/lib/python3.7/dist-packages/pandas/core/frame.py\u001b[0m in \u001b[0;36m__getitem__\u001b[0;34m(self, key)\u001b[0m\n\u001b[1;32m   2904\u001b[0m             \u001b[0;32mif\u001b[0m \u001b[0mself\u001b[0m\u001b[0;34m.\u001b[0m\u001b[0mcolumns\u001b[0m\u001b[0;34m.\u001b[0m\u001b[0mnlevels\u001b[0m \u001b[0;34m>\u001b[0m \u001b[0;36m1\u001b[0m\u001b[0;34m:\u001b[0m\u001b[0;34m\u001b[0m\u001b[0;34m\u001b[0m\u001b[0m\n\u001b[1;32m   2905\u001b[0m                 \u001b[0;32mreturn\u001b[0m \u001b[0mself\u001b[0m\u001b[0;34m.\u001b[0m\u001b[0m_getitem_multilevel\u001b[0m\u001b[0;34m(\u001b[0m\u001b[0mkey\u001b[0m\u001b[0;34m)\u001b[0m\u001b[0;34m\u001b[0m\u001b[0;34m\u001b[0m\u001b[0m\n\u001b[0;32m-> 2906\u001b[0;31m             \u001b[0mindexer\u001b[0m \u001b[0;34m=\u001b[0m \u001b[0mself\u001b[0m\u001b[0;34m.\u001b[0m\u001b[0mcolumns\u001b[0m\u001b[0;34m.\u001b[0m\u001b[0mget_loc\u001b[0m\u001b[0;34m(\u001b[0m\u001b[0mkey\u001b[0m\u001b[0;34m)\u001b[0m\u001b[0;34m\u001b[0m\u001b[0;34m\u001b[0m\u001b[0m\n\u001b[0m\u001b[1;32m   2907\u001b[0m             \u001b[0;32mif\u001b[0m \u001b[0mis_integer\u001b[0m\u001b[0;34m(\u001b[0m\u001b[0mindexer\u001b[0m\u001b[0;34m)\u001b[0m\u001b[0;34m:\u001b[0m\u001b[0;34m\u001b[0m\u001b[0;34m\u001b[0m\u001b[0m\n\u001b[1;32m   2908\u001b[0m                 \u001b[0mindexer\u001b[0m \u001b[0;34m=\u001b[0m \u001b[0;34m[\u001b[0m\u001b[0mindexer\u001b[0m\u001b[0;34m]\u001b[0m\u001b[0;34m\u001b[0m\u001b[0;34m\u001b[0m\u001b[0m\n",
            "\u001b[0;32m/usr/local/lib/python3.7/dist-packages/pandas/core/indexes/base.py\u001b[0m in \u001b[0;36mget_loc\u001b[0;34m(self, key, method, tolerance)\u001b[0m\n\u001b[1;32m   2898\u001b[0m                 \u001b[0;32mreturn\u001b[0m \u001b[0mself\u001b[0m\u001b[0;34m.\u001b[0m\u001b[0m_engine\u001b[0m\u001b[0;34m.\u001b[0m\u001b[0mget_loc\u001b[0m\u001b[0;34m(\u001b[0m\u001b[0mcasted_key\u001b[0m\u001b[0;34m)\u001b[0m\u001b[0;34m\u001b[0m\u001b[0;34m\u001b[0m\u001b[0m\n\u001b[1;32m   2899\u001b[0m             \u001b[0;32mexcept\u001b[0m \u001b[0mKeyError\u001b[0m \u001b[0;32mas\u001b[0m \u001b[0merr\u001b[0m\u001b[0;34m:\u001b[0m\u001b[0;34m\u001b[0m\u001b[0;34m\u001b[0m\u001b[0m\n\u001b[0;32m-> 2900\u001b[0;31m                 \u001b[0;32mraise\u001b[0m \u001b[0mKeyError\u001b[0m\u001b[0;34m(\u001b[0m\u001b[0mkey\u001b[0m\u001b[0;34m)\u001b[0m \u001b[0;32mfrom\u001b[0m \u001b[0merr\u001b[0m\u001b[0;34m\u001b[0m\u001b[0;34m\u001b[0m\u001b[0m\n\u001b[0m\u001b[1;32m   2901\u001b[0m \u001b[0;34m\u001b[0m\u001b[0m\n\u001b[1;32m   2902\u001b[0m         \u001b[0;32mif\u001b[0m \u001b[0mtolerance\u001b[0m \u001b[0;32mis\u001b[0m \u001b[0;32mnot\u001b[0m \u001b[0;32mNone\u001b[0m\u001b[0;34m:\u001b[0m\u001b[0;34m\u001b[0m\u001b[0;34m\u001b[0m\u001b[0m\n",
            "\u001b[0;31mKeyError\u001b[0m: 'skills'"
          ]
        }
      ],
      "source": [
        "# Filling NaNs with empty string\n",
        "df['skills'] = df['skills'].fillna('')\n",
        "df['sectors'] = df['sectors'].fillna('')\n",
        "df['states'] = df['states'].fillna('')\n",
        "df.reset_index()\n",
        "from sentence_transformers import SentenceTransformer"
      ]
    },
    {
      "cell_type": "code",
      "execution_count": 90,
      "id": "fe99282b",
      "metadata": {
        "id": "fe99282b",
        "colab": {
          "base_uri": "https://localhost:8080/",
          "height": 184
        },
        "outputId": "256846a8-62fe-4ad1-f22c-267ffcd8e1db"
      },
      "outputs": [
        {
          "output_type": "error",
          "ename": "NameError",
          "evalue": "ignored",
          "traceback": [
            "\u001b[0;31m---------------------------------------------------------------------------\u001b[0m",
            "\u001b[0;31mNameError\u001b[0m                                 Traceback (most recent call last)",
            "\u001b[0;32m<ipython-input-90-6e87f8b567b0>\u001b[0m in \u001b[0;36m<module>\u001b[0;34m()\u001b[0m\n\u001b[0;32m----> 1\u001b[0;31m \u001b[0mmodel\u001b[0m \u001b[0;34m=\u001b[0m \u001b[0mSentenceTransformer\u001b[0m\u001b[0;34m(\u001b[0m\u001b[0;34m'paraphrase-distilroberta-base-v1'\u001b[0m\u001b[0;34m,\u001b[0m \u001b[0mcache_folder\u001b[0m\u001b[0;34m=\u001b[0m\u001b[0;34m\"E:\\Mosahaya\\paraphrase-distilroberta-base-v1 cache\"\u001b[0m\u001b[0;34m)\u001b[0m\u001b[0;34m\u001b[0m\u001b[0;34m\u001b[0m\u001b[0m\n\u001b[0m",
            "\u001b[0;31mNameError\u001b[0m: name 'SentenceTransformer' is not defined"
          ]
        }
      ],
      "source": [
        "model = SentenceTransformer('paraphrase-distilroberta-base-v1', cache_folder=\"E:\\Mosahaya\\paraphrase-distilroberta-base-v1 cache\")"
      ]
    },
    {
      "cell_type": "code",
      "execution_count": 91,
      "id": "13aabae8",
      "metadata": {
        "id": "13aabae8",
        "outputId": "24830dc5-2a4a-4fcf-b22e-f0ea1330235f",
        "colab": {
          "base_uri": "https://localhost:8080/",
          "height": 642
        }
      },
      "outputs": [
        {
          "output_type": "error",
          "ename": "KeyError",
          "evalue": "ignored",
          "traceback": [
            "\u001b[0;31m---------------------------------------------------------------------------\u001b[0m",
            "\u001b[0;31mKeyError\u001b[0m                                  Traceback (most recent call last)",
            "\u001b[0;32m/usr/local/lib/python3.7/dist-packages/pandas/core/indexes/base.py\u001b[0m in \u001b[0;36mget_loc\u001b[0;34m(self, key, method, tolerance)\u001b[0m\n\u001b[1;32m   2897\u001b[0m             \u001b[0;32mtry\u001b[0m\u001b[0;34m:\u001b[0m\u001b[0;34m\u001b[0m\u001b[0;34m\u001b[0m\u001b[0m\n\u001b[0;32m-> 2898\u001b[0;31m                 \u001b[0;32mreturn\u001b[0m \u001b[0mself\u001b[0m\u001b[0;34m.\u001b[0m\u001b[0m_engine\u001b[0m\u001b[0;34m.\u001b[0m\u001b[0mget_loc\u001b[0m\u001b[0;34m(\u001b[0m\u001b[0mcasted_key\u001b[0m\u001b[0;34m)\u001b[0m\u001b[0;34m\u001b[0m\u001b[0;34m\u001b[0m\u001b[0m\n\u001b[0m\u001b[1;32m   2899\u001b[0m             \u001b[0;32mexcept\u001b[0m \u001b[0mKeyError\u001b[0m \u001b[0;32mas\u001b[0m \u001b[0merr\u001b[0m\u001b[0;34m:\u001b[0m\u001b[0;34m\u001b[0m\u001b[0;34m\u001b[0m\u001b[0m\n",
            "\u001b[0;32mpandas/_libs/index.pyx\u001b[0m in \u001b[0;36mpandas._libs.index.IndexEngine.get_loc\u001b[0;34m()\u001b[0m\n",
            "\u001b[0;32mpandas/_libs/index.pyx\u001b[0m in \u001b[0;36mpandas._libs.index.IndexEngine.get_loc\u001b[0;34m()\u001b[0m\n",
            "\u001b[0;32mpandas/_libs/hashtable_class_helper.pxi\u001b[0m in \u001b[0;36mpandas._libs.hashtable.PyObjectHashTable.get_item\u001b[0;34m()\u001b[0m\n",
            "\u001b[0;32mpandas/_libs/hashtable_class_helper.pxi\u001b[0m in \u001b[0;36mpandas._libs.hashtable.PyObjectHashTable.get_item\u001b[0;34m()\u001b[0m\n",
            "\u001b[0;31mKeyError\u001b[0m: 'sectors'",
            "\nThe above exception was the direct cause of the following exception:\n",
            "\u001b[0;31mKeyError\u001b[0m                                  Traceback (most recent call last)",
            "\u001b[0;32m<ipython-input-91-7a05f4581829>\u001b[0m in \u001b[0;36m<module>\u001b[0;34m()\u001b[0m\n\u001b[0;32m----> 1\u001b[0;31m \u001b[0mdescriptions\u001b[0m \u001b[0;34m=\u001b[0m \u001b[0mdf\u001b[0m\u001b[0;34m[\u001b[0m\u001b[0;34m'sectors'\u001b[0m\u001b[0;34m]\u001b[0m\u001b[0;34m.\u001b[0m\u001b[0mtolist\u001b[0m\u001b[0;34m(\u001b[0m\u001b[0;34m)\u001b[0m\u001b[0;34m\u001b[0m\u001b[0;34m\u001b[0m\u001b[0m\n\u001b[0m\u001b[1;32m      2\u001b[0m \u001b[0;31m# print(descriptions)\u001b[0m\u001b[0;34m\u001b[0m\u001b[0;34m\u001b[0m\u001b[0;34m\u001b[0m\u001b[0m\n\u001b[1;32m      3\u001b[0m \u001b[0mdes_embeddings\u001b[0m \u001b[0;34m=\u001b[0m \u001b[0;34m[\u001b[0m\u001b[0;34m]\u001b[0m\u001b[0;34m\u001b[0m\u001b[0;34m\u001b[0m\u001b[0m\n\u001b[1;32m      4\u001b[0m \u001b[0mc\u001b[0m\u001b[0;34m=\u001b[0m\u001b[0;36m0\u001b[0m\u001b[0;34m\u001b[0m\u001b[0;34m\u001b[0m\u001b[0m\n\u001b[1;32m      5\u001b[0m \u001b[0;32mfor\u001b[0m \u001b[0mi\u001b[0m\u001b[0;34m,\u001b[0m\u001b[0mdes\u001b[0m \u001b[0;32min\u001b[0m \u001b[0menumerate\u001b[0m\u001b[0;34m(\u001b[0m\u001b[0mdescriptions\u001b[0m\u001b[0;34m)\u001b[0m\u001b[0;34m:\u001b[0m\u001b[0;34m\u001b[0m\u001b[0;34m\u001b[0m\u001b[0m\n",
            "\u001b[0;32m/usr/local/lib/python3.7/dist-packages/pandas/core/frame.py\u001b[0m in \u001b[0;36m__getitem__\u001b[0;34m(self, key)\u001b[0m\n\u001b[1;32m   2904\u001b[0m             \u001b[0;32mif\u001b[0m \u001b[0mself\u001b[0m\u001b[0;34m.\u001b[0m\u001b[0mcolumns\u001b[0m\u001b[0;34m.\u001b[0m\u001b[0mnlevels\u001b[0m \u001b[0;34m>\u001b[0m \u001b[0;36m1\u001b[0m\u001b[0;34m:\u001b[0m\u001b[0;34m\u001b[0m\u001b[0;34m\u001b[0m\u001b[0m\n\u001b[1;32m   2905\u001b[0m                 \u001b[0;32mreturn\u001b[0m \u001b[0mself\u001b[0m\u001b[0;34m.\u001b[0m\u001b[0m_getitem_multilevel\u001b[0m\u001b[0;34m(\u001b[0m\u001b[0mkey\u001b[0m\u001b[0;34m)\u001b[0m\u001b[0;34m\u001b[0m\u001b[0;34m\u001b[0m\u001b[0m\n\u001b[0;32m-> 2906\u001b[0;31m             \u001b[0mindexer\u001b[0m \u001b[0;34m=\u001b[0m \u001b[0mself\u001b[0m\u001b[0;34m.\u001b[0m\u001b[0mcolumns\u001b[0m\u001b[0;34m.\u001b[0m\u001b[0mget_loc\u001b[0m\u001b[0;34m(\u001b[0m\u001b[0mkey\u001b[0m\u001b[0;34m)\u001b[0m\u001b[0;34m\u001b[0m\u001b[0;34m\u001b[0m\u001b[0m\n\u001b[0m\u001b[1;32m   2907\u001b[0m             \u001b[0;32mif\u001b[0m \u001b[0mis_integer\u001b[0m\u001b[0;34m(\u001b[0m\u001b[0mindexer\u001b[0m\u001b[0;34m)\u001b[0m\u001b[0;34m:\u001b[0m\u001b[0;34m\u001b[0m\u001b[0;34m\u001b[0m\u001b[0m\n\u001b[1;32m   2908\u001b[0m                 \u001b[0mindexer\u001b[0m \u001b[0;34m=\u001b[0m \u001b[0;34m[\u001b[0m\u001b[0mindexer\u001b[0m\u001b[0;34m]\u001b[0m\u001b[0;34m\u001b[0m\u001b[0;34m\u001b[0m\u001b[0m\n",
            "\u001b[0;32m/usr/local/lib/python3.7/dist-packages/pandas/core/indexes/base.py\u001b[0m in \u001b[0;36mget_loc\u001b[0;34m(self, key, method, tolerance)\u001b[0m\n\u001b[1;32m   2898\u001b[0m                 \u001b[0;32mreturn\u001b[0m \u001b[0mself\u001b[0m\u001b[0;34m.\u001b[0m\u001b[0m_engine\u001b[0m\u001b[0;34m.\u001b[0m\u001b[0mget_loc\u001b[0m\u001b[0;34m(\u001b[0m\u001b[0mcasted_key\u001b[0m\u001b[0;34m)\u001b[0m\u001b[0;34m\u001b[0m\u001b[0;34m\u001b[0m\u001b[0m\n\u001b[1;32m   2899\u001b[0m             \u001b[0;32mexcept\u001b[0m \u001b[0mKeyError\u001b[0m \u001b[0;32mas\u001b[0m \u001b[0merr\u001b[0m\u001b[0;34m:\u001b[0m\u001b[0;34m\u001b[0m\u001b[0;34m\u001b[0m\u001b[0m\n\u001b[0;32m-> 2900\u001b[0;31m                 \u001b[0;32mraise\u001b[0m \u001b[0mKeyError\u001b[0m\u001b[0;34m(\u001b[0m\u001b[0mkey\u001b[0m\u001b[0;34m)\u001b[0m \u001b[0;32mfrom\u001b[0m \u001b[0merr\u001b[0m\u001b[0;34m\u001b[0m\u001b[0;34m\u001b[0m\u001b[0m\n\u001b[0m\u001b[1;32m   2901\u001b[0m \u001b[0;34m\u001b[0m\u001b[0m\n\u001b[1;32m   2902\u001b[0m         \u001b[0;32mif\u001b[0m \u001b[0mtolerance\u001b[0m \u001b[0;32mis\u001b[0m \u001b[0;32mnot\u001b[0m \u001b[0;32mNone\u001b[0m\u001b[0;34m:\u001b[0m\u001b[0;34m\u001b[0m\u001b[0;34m\u001b[0m\u001b[0m\n",
            "\u001b[0;31mKeyError\u001b[0m: 'sectors'"
          ]
        }
      ],
      "source": [
        "descriptions = df['sectors'].tolist()\n",
        "# print(descriptions)\n",
        "des_embeddings = []\n",
        "c=0\n",
        "for i,des in enumerate(descriptions):\n",
        "    des_embeddings.append(model.encode(des))\n",
        "    print(c)\n",
        "    c+=1"
      ]
    },
    {
      "cell_type": "code",
      "execution_count": null,
      "id": "845d84f1",
      "metadata": {
        "id": "845d84f1"
      },
      "outputs": [],
      "source": [
        "import torch\n",
        "from sentence_transformers import SentenceTransformer, util\n",
        "\n",
        "def recommend(query):\n",
        "    #Compute cosine-similarities with all embeddings \n",
        "    query_embedd = model.encode(query)\n",
        "    cosine_scores = util.pytorch_cos_sim(query_embedd, des_embeddings)\n",
        "    top5_matches = torch.argsort(cosine_scores, dim=1,descending=True).tolist()[0][1:20]\n",
        "    return top5_matches"
      ]
    },
    {
      "cell_type": "code",
      "execution_count": null,
      "id": "46472a6a",
      "metadata": {
        "id": "46472a6a"
      },
      "outputs": [],
      "source": [
        "sectors = 'agriculture'\n",
        "#skills=\"farmer\"\n",
        "#states=\"odisha\"\n",
        "query_show_des = df.loc[(df['sectors'] == sectors)]['generalData.name'].to_list()[0]\n",
        "recommendded_results = recommend(query_show_des)\n",
        "\n",
        "indices = []\n",
        "for index in recommendded_results:\n",
        "    indices.append(index)\n",
        "\n",
        "df = df.iloc[indices]\n",
        "df"
      ]
    },
    {
      "cell_type": "code",
      "execution_count": null,
      "id": "5f89b7a2",
      "metadata": {
        "id": "5f89b7a2"
      },
      "outputs": [],
      "source": [
        ""
      ]
    }
  ],
  "metadata": {
    "kernelspec": {
      "display_name": "Python 3 (ipykernel)",
      "language": "python",
      "name": "python3"
    },
    "language_info": {
      "codemirror_mode": {
        "name": "ipython",
        "version": 3
      },
      "file_extension": ".py",
      "mimetype": "text/x-python",
      "name": "python",
      "nbconvert_exporter": "python",
      "pygments_lexer": "ipython3",
      "version": "3.9.7"
    },
    "colab": {
      "name": "recommendation 1.ipynb",
      "provenance": [],
      "include_colab_link": true
    }
  },
  "nbformat": 4,
  "nbformat_minor": 5
}